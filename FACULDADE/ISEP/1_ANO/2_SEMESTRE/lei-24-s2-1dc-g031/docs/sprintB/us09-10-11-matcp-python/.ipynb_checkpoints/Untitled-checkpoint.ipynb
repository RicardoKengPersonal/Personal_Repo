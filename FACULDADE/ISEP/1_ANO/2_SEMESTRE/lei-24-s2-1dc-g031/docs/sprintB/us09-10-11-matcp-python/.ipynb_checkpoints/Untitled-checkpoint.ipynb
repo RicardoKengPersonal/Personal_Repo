{
 "cells": [
  {
   "metadata": {},
   "cell_type": "raw",
   "source": "",
   "id": "94ce7dab058d5665"
  }
 ],
 "metadata": {},
 "nbformat": 4,
 "nbformat_minor": 5
}
